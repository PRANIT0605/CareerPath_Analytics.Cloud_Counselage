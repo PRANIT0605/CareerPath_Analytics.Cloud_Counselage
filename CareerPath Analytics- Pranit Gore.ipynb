{
 "cells": [
  {
   "cell_type": "raw",
   "id": "a8e580fe-68cd-493b-911b-da3067c4d45e",
   "metadata": {},
   "source": [
    "Name -> Pranit Gore\n",
    "Domain -> Python\n",
    "Project Title -> CareerPath Analytics\n",
    "Start Date -> 19th June 2024\n",
    "Position -> Intern\n",
    "Intern ID -> IP -3928"
   ]
  },
  {
   "cell_type": "raw",
   "id": "fee6ee9d-ce42-4767-833e-986dfb64e443",
   "metadata": {},
   "source": [
    "Project Objective: We aim to conduct a comprehensive analysis of our student interns to gain insights about relationships between their academic performance, event participation, career aspiration and factors influencing their success. We have collected a dataset containing various attributes for each student."
   ]
  },
  {
   "cell_type": "raw",
   "id": "84313977-a22f-4765-905f-12f8a2b9847d",
   "metadata": {},
   "source": [
    "Background: Millions of students apply for Internships/jobs every year, resumes play an important role in playing the first impression. The recruiters spend a max of 2-3 minutes reviewing a resume after it landed in their mailbox or Job board, ATS application. Surprising more than 70% of resumes get rejected in the initial screening."
   ]
  },
  {
   "cell_type": "raw",
   "id": "278b04ca-a747-4389-8992-3284bf9f4650",
   "metadata": {},
   "source": [
    "BASIC QUESTIONS:"
   ]
  },
  {
   "cell_type": "code",
   "execution_count": null,
   "id": "a328d65c-8447-492e-8f1f-150db32b94c1",
   "metadata": {
    "tags": []
   },
   "outputs": [],
   "source": [
    "!pip install pandas openpyxl\n"
   ]
  },
  {
   "cell_type": "raw",
   "id": "20841cef-ca01-45c9-9e47-27d7c4bb2ab0",
   "metadata": {},
   "source": [
    "1. How many unique students are included in the dataset?"
   ]
  },
  {
   "cell_type": "code",
   "execution_count": null,
   "id": "d53468d5-2f1b-458a-9954-a540fa2df4c9",
   "metadata": {
    "tags": []
   },
   "outputs": [],
   "source": [
    "import pandas as pd\n",
    "\n",
    "file_path = 'Cloud_Conselage_Internship_Data.xlsx'\n",
    "df = pd.read_excel(file_path)\n",
    "\n",
    "# Display the first few rows of the dataframe\n",
    "df.head()\n",
    "\n",
    "unique_students_city = df['City'].nunique()\n",
    "\n",
    "# Print the result\n",
    "print(f'The number of unique students in the context of City in the dataset is: {unique_students_city}')\n",
    "unique_students_events = df['Events'].nunique()\n",
    "print(f'The number of unique students in the context of Events in the dataset is: {unique_students_events}')\n",
    "\n",
    "unique_students_designation = df['Designation'].nunique()\n",
    "print(f'The number of unique students in the context of designation in the dataset is: {unique_students_designation}')\n",
    "\n",
    "unique_students_graduation = df['Year of Graduation'].nunique()\n",
    "print(f'The number of unique students in the context of Events in the dataset is: {unique_students_graduation}')\n",
    "\n",
    "unique_students_FamilyIncome = df['Family Income'].nunique()\n",
    "print(f'The number of unique students in the context of family income in the dataset is: {unique_students_FamilyIncome}')\n",
    "\n",
    "unique_students_PythonExperience = df['Experience with python (Months)'].nunique()\n",
    "print(f'The number of unique students in the context of Python Experience in the dataset is: {unique_students_PythonExperience}')"
   ]
  },
  {
   "cell_type": "raw",
   "id": "6de2bf1d-5a41-49f6-94a2-c70cf1186930",
   "metadata": {
    "tags": []
   },
   "source": [
    "Question 2 : What is the average GPA of the students?"
   ]
  },
  {
   "cell_type": "code",
   "execution_count": null,
   "id": "a70696ce-f236-4022-ad04-caf8b7eb2c05",
   "metadata": {
    "tags": []
   },
   "outputs": [],
   "source": [
    "import pandas as pd\n",
    "\n",
    "\n",
    "file_path = 'Cloud_Conselage_Internship_Data.xlsx'\n",
    "df = pd.read_excel(file_path)\n",
    "\n",
    "# Calculate the average CGPA\n",
    "average_cgpa = df['CGPA'].mean()\n",
    "\n",
    "# Print the result\n",
    "print(f'The average CGPA of the students is: {average_cgpa}')\n"
   ]
  },
  {
   "cell_type": "raw",
   "id": "f0f2e84b-8dff-4f6f-a404-adb4d139bc96",
   "metadata": {},
   "source": [
    "Question 3 : What is the distribution of students across different graduation years?"
   ]
  },
  {
   "cell_type": "code",
   "execution_count": null,
   "id": "a2d4b602-0a9c-4e5a-98cd-2fa5098d0b58",
   "metadata": {
    "tags": []
   },
   "outputs": [],
   "source": [
    "import pandas as pd\n",
    "import matplotlib.pyplot as plt\n",
    "\n",
    "file_path = 'Cloud_Conselage_Internship_Data.xlsx'\n",
    "df = pd.read_excel(file_path)\n",
    "\n",
    "graduation_year_distribution = df['Year of Graduation'].value_counts()\n",
    "print(graduation_year_distribution)"
   ]
  },
  {
   "cell_type": "raw",
   "id": "f4e4a4dc-b799-4c32-ac54-01aff7c96f5f",
   "metadata": {},
   "source": [
    "Question 4:  What is the distribution of student’s experience with Python programming?"
   ]
  },
  {
   "cell_type": "code",
   "execution_count": null,
   "id": "295ce7a3-38ce-40ec-8bc8-6cb261fae6e9",
   "metadata": {
    "tags": []
   },
   "outputs": [],
   "source": [
    "import pandas as pd\n",
    "import matplotlib.pyplot as plt\n",
    "\n",
    "file_path = 'Cloud_Conselage_Internship_Data.xlsx'\n",
    "df = pd.read_excel(file_path)\n",
    "\n",
    "Python_experience_distribution = df['Experience with python (Months)'].value_counts()\n",
    "print(Python_experience_distribution)"
   ]
  },
  {
   "cell_type": "raw",
   "id": "3c9e9ebf-52c7-4c21-8b71-6c41574a6f98",
   "metadata": {},
   "source": [
    "Question 5:Are there any outliers in the ‘attending status’ and ‘quantity(number of courses completed)’ attribute?"
   ]
  },
  {
   "cell_type": "code",
   "execution_count": null,
   "id": "0fcdf3a0-27b1-4bb0-a2f2-9a94b899c73e",
   "metadata": {
    "tags": []
   },
   "outputs": [],
   "source": [
    "import pandas as pd\n",
    "import seaborn as sns\n",
    "import matplotlib.pyplot as plt\n",
    "\n",
    "file_path = 'Cloud_Conselage_Internship_Data.xlsx'\n",
    "data = pd.read_excel(file_path)\n",
    "attending_status = data['Attendee Status'].dropna()\n",
    "quantity_completed = data['Quantity'].dropna()\n",
    "unique_attending_status = attending_status.unique()\n",
    "print('Unique values in Attending Status:')\n",
    "print(unique_attending_status)\n",
    "\n",
    "# Analyze 'Quantity (Number of Courses Completed)' for outliers\n",
    "# Using IQR (Interquartile Range) method\n",
    "Q1 = quantity_completed.quantile(0.25)\n",
    "Q3 = quantity_completed.quantile(0.75)\n",
    "IQR = Q3 - Q1\n",
    "lower_bound = Q1 - 1.5 * IQR\n",
    "upper_bound = Q3 + 1.5 * IQR\n",
    "outliers = quantity_completed[(quantity_completed < lower_bound) | (quantity_completed > upper_bound)]\n",
    "print(f'Number of outliers in Quantity: {len(outliers)}')\n",
    "print('Outliers:')\n",
    "print(outliers)\n",
    "# Visualize the distribution and outliers for 'Quantity (Number of Courses Completed)'\n",
    "plt.figure(figsize=(12, 5))\n",
    "sns.boxplot(x=quantity_completed)\n",
    "plt.title('Boxplot for Quantity')\n",
    "plt.xlabel('Quantity')\n",
    "plt.show()"
   ]
  },
  {
   "cell_type": "raw",
   "id": "e4958337-070e-4c86-ac6f-811973c75650",
   "metadata": {},
   "source": [
    "Question 6:How does GPA vary among different colleges?(Show top 5 results)"
   ]
  },
  {
   "cell_type": "code",
   "execution_count": null,
   "id": "2563c9ac-9b4b-42b0-af28-b580c9a5652b",
   "metadata": {
    "tags": []
   },
   "outputs": [],
   "source": [
    "import pandas as pd\n",
    "import matplotlib.pyplot as plt\n",
    "\n",
    "file_path = 'Cloud_Conselage_Internship_Data.xlsx'\n",
    "df = pd.read_excel(file_path)\n",
    "\n",
    "college_cgpa_stats = df.groupby('College Name')['CGPA'].agg(['mean','median','count'])\n",
    "top_colleges = college_cgpa_stats.sort_values(by='mean', ascending=False).head(5)\n",
    "print(top_colleges)\n",
    "\n",
    "plt.figure(figsize=(8, 4))\n",
    "df[df['College Name'].isin(top_colleges.index)].boxplot(column='CGPA', by='College Name', vert=False)\n",
    "plt.xlabel('CGPA')\n",
    "plt.ylabel('College Name')\n",
    "plt.title('Top 5 Colleges by Average CGPA')\n",
    "plt.tight_layout()\n",
    "plt.show()"
   ]
  },
  {
   "cell_type": "raw",
   "id": "d7d8661b-1890-4e2d-ae85-e4ac77daed52",
   "metadata": {},
   "source": [
    "Question 7: What is the average GPA for student from each city?"
   ]
  },
  {
   "cell_type": "code",
   "execution_count": null,
   "id": "0c4b90c0-6f88-4cce-929e-10d05b8dbf79",
   "metadata": {
    "tags": []
   },
   "outputs": [],
   "source": [
    "import pandas as pd\n",
    "\n",
    "\n",
    "file_path = 'Cloud_Conselage_Internship_Data.xlsx'\n",
    "df = pd.read_excel(file_path)\n",
    "\n",
    "\n",
    "city_cgpa_stats = df.groupby('City')['CGPA'].mean()\n",
    "print(city_cgpa_stats)\n"
   ]
  },
  {
   "cell_type": "raw",
   "id": "5ef3d672-3374-4404-a878-245c1dfb14bb",
   "metadata": {},
   "source": [
    "Question 8: Can we identify any relationship between family income and GPA?"
   ]
  },
  {
   "cell_type": "code",
   "execution_count": null,
   "id": "a1dabe17-88e5-4624-b055-6cde46798e4a",
   "metadata": {
    "tags": []
   },
   "outputs": [],
   "source": [
    "import pandas as pd\n",
    "import matplotlib.pyplot as plt\n",
    "import seaborn as sns\n",
    "\n",
    "file_path ='Cloud_Conselage_Internship_Data.xlsx'\n",
    "data = pd.read_excel(file_path)\n",
    "data.head()\n",
    "\n",
    "# Clean and prepare the data and Convert 'Family Income' to numerical ranges\n",
    "income_mapping = {\n",
    "    '0-2 Lakh': 1,\n",
    "    '2-5 Lakh': 2,\n",
    "    '5-7 Lakh': 3,\n",
    "    '7 Lakh+': 4\n",
    "}\n",
    "data['Family Income Numeric'] = data['Family Income'].map(income_mapping)\n",
    "cleaned_data = data[['Family Income Numeric', 'CGPA']].dropna()\n",
    "\n",
    "# Plot the relationship between family income and CGPA\n",
    "plt.figure(figsize=(10, 6))\n",
    "sns.boxplot(x='Family Income Numeric', y='CGPA', data=cleaned_data)\n",
    "plt.xlabel('Family Income (Numeric)')\n",
    "plt.ylabel('CGPA')\n",
    "plt.title('Relationship between Family Income and CGPA')\n",
    "plt.xticks(ticks=[0, 1, 2, 3], labels=['0-2 Lakh', '2-5 Lakh', '5-7 Lakh', '7 Lakh+'])\n",
    "plt.show()\n",
    "# Calculate the correlation coefficient between family income and CGPA\n",
    "correlation = cleaned_data['Family Income Numeric'].corr(cleaned_data['CGPA'])\n",
    "correlation\n",
    "\n",
    "\n",
    "\n"
   ]
  },
  {
   "cell_type": "raw",
   "id": "5a4f25a1-1112-4438-8afb-857e7f9af3b6",
   "metadata": {},
   "source": [
    "MEDIUM QUESTIONS:"
   ]
  },
  {
   "cell_type": "raw",
   "id": "c292d972-619d-4bcf-b893-e2d09f4ed580",
   "metadata": {},
   "source": [
    "Question 1:How does expected salary vary based on factors like ‘GPA’, ‘Family income’, ‘Experience with python’?"
   ]
  },
  {
   "cell_type": "code",
   "execution_count": null,
   "id": "2a471e13-6a3a-4b82-8cd8-d9410ca4a055",
   "metadata": {
    "tags": []
   },
   "outputs": [],
   "source": [
    "import pandas as pd\n",
    "import seaborn as sns\n",
    "import matplotlib.pyplot as plt\n",
    "\n",
    "file_path ='Cloud_Conselage_Internship_Data.xlsx'\n",
    "data = pd.read_excel(file_path)\n",
    "\n",
    "income_mapping = {\n",
    "    '0-2 Lakh': 1,\n",
    "    '2-5 Lakh': 2,\n",
    "    '5-7 Lakh': 3,\n",
    "    '7 Lakh+': 4\n",
    "}\n",
    "data['Family Income Numeric'] = data['Family Income'].map(income_mapping)\n",
    "data = data.dropna(subset=['Family Income Numeric','CGPA','Experience with python (Months)','Expected salary (Lac)'])\n",
    "plt.figure(figsize=(18, 6))\n",
    "\n",
    "# GPA vs Expected Salary\n",
    "plt.subplot(1, 3, 1)\n",
    "sns.scatterplot(x='CGPA', y='Expected salary (Lac)', data=data)\n",
    "plt.title('GPA vs Expected Salary')\n",
    "\n",
    "# Family Income vs Expected Salary\n",
    "plt.subplot(1, 3, 2)\n",
    "sns.boxplot(x='Family Income Numeric', y='Expected salary (Lac)', data=data)\n",
    "plt.title('Family Income vs Expected Salary')\n",
    "plt.xticks(ticks=[0, 1, 2, 3], labels=['0-2 Lakh', '2-5 Lakh', '5-7 Lakh', '7 Lakh+'])\n",
    "\n",
    "# Experience with Python vs Expected Salary\n",
    "plt.subplot(1, 3, 3)\n",
    "sns.scatterplot(x='Experience with python (Months)', y='Expected salary (Lac)', data=data)\n",
    "plt.title('Experience with Python vs Expected Salary')\n",
    "plt.tight_layout()\n",
    "plt.show()\n"
   ]
  },
  {
   "cell_type": "raw",
   "id": "aa202e53-d98e-4b7a-a2a7-3b3458c8dff0",
   "metadata": {},
   "source": [
    "Question 2: Which event tend to attract more students from specific fields of study?"
   ]
  },
  {
   "cell_type": "code",
   "execution_count": null,
   "id": "46b44956-079f-477c-bd81-9d56f7daf917",
   "metadata": {
    "tags": []
   },
   "outputs": [],
   "source": [
    "import pandas as pd\n",
    "import matplotlib.pyplot as plt\n",
    "import seaborn as sns\n",
    "\n",
    "file_path ='Cloud_Conselage_Internship_Data.xlsx'\n",
    "data = pd.read_excel(file_path)\n",
    "\n",
    "\n",
    "# Assuming 'College Name' represents the field of study\n",
    "event_field_data = data[['Events', 'College Name']].dropna()\n",
    "\n",
    "# Aggregate data to count the number of students from each field for each event\n",
    "event_field_counts = event_field_data.groupby(['Events', 'College Name']).size().reset_index(name='Count')\n",
    "\n",
    "# Pivot the data to get a matrix form suitable for heatmap\n",
    "event_field_pivot = event_field_counts.pivot('College Name', 'Events', 'Count').fillna(0)\n",
    "\n",
    "# Visualize the data\n",
    "plt.figure(figsize=(12, 8))\n",
    "sns.heatmap(event_field_pivot, annot=True, fmt=\".0f\", cmap=\"YlGnBu\")\n",
    "plt.title('Number of Students from Each Field of Study Attending Each Event')\n",
    "plt.xlabel('Events')\n",
    "plt.ylabel('Field of Study (College Name)')\n",
    "plt.show()\n"
   ]
  },
  {
   "cell_type": "raw",
   "id": "2fd4adb9-a348-4485-b85e-df56bbc56e4f",
   "metadata": {},
   "source": [
    "Question 3: Do students in leadership positions during their college years tend to have higher GPA’s or better expected salary?"
   ]
  },
  {
   "cell_type": "code",
   "execution_count": null,
   "id": "63b7f566-095c-4ae8-9474-52cef2509073",
   "metadata": {
    "tags": []
   },
   "outputs": [],
   "source": [
    "import pandas as pd\n",
    "import matplotlib.pyplot as plt\n",
    "import seaborn as sns\n",
    "\n",
    "file_path ='Cloud_Conselage_Internship_Data.xlsx'\n",
    "data = pd.read_excel(file_path)\n",
    "leadership_data = data[['Leadership- skills', 'CGPA', 'Expected salary (Lac)']].dropna()\n",
    "\n",
    "# Convert leadership skills to a binary format (yes=1, no=0)\n",
    "leadership_data['Leadership'] = leadership_data['Leadership- skills'].apply(lambda x: 1 if x == 'yes' else 0)\n",
    "leadership_summary = leadership_data.groupby('Leadership').agg({\n",
    "    'CGPA': 'mean',\n",
    "    'Expected salary (Lac)': 'mean'\n",
    "}).reset_index()\n",
    "print(leadership_summary)\n",
    "plt.figure(figsize=(12, 6))\n",
    "\n",
    "# GPA comparison\n",
    "plt.subplot(1, 2, 1)\n",
    "sns.barplot(x='Leadership', y='CGPA', data=leadership_summary)\n",
    "plt.xticks(ticks=[0, 1], labels=['No Leadership', 'Leadership'])\n",
    "plt.title('GPA by Leadership Status')\n",
    "plt.ylabel('Average GPA')\n",
    "plt.xlabel('Leadership Status')\n",
    "\n",
    "# Expected salary comparison\n",
    "plt.subplot(1, 2, 2)\n",
    "sns.barplot(x='Leadership', y='Expected salary (Lac)', data=leadership_summary)\n",
    "plt.xticks(ticks=[0, 1], labels=['No Leadership', 'Leadership'])\n",
    "plt.title('Expected Salary by Leadership Status')\n",
    "plt.ylabel('Average Expected Salary (Lac)')\n",
    "plt.xlabel('Leadership Status')\n",
    "plt.tight_layout()\n",
    "plt.show()\n"
   ]
  },
  {
   "cell_type": "raw",
   "id": "fe5e3a6c-462e-47a4-8c08-602be32456d0",
   "metadata": {},
   "source": [
    "Question 4: Is there a correlation between leadership skills and expected salary of the students?"
   ]
  },
  {
   "cell_type": "code",
   "execution_count": null,
   "id": "8824e4db-e995-45b5-aa3e-68be6f2b5081",
   "metadata": {
    "tags": []
   },
   "outputs": [],
   "source": [
    "import pandas as pd\n",
    "\n",
    "file_path ='Cloud_Conselage_Internship_Data.xlsx'\n",
    "data = pd.read_excel(file_path)\n",
    "leadership_data = data[['Leadership- skills', 'Expected salary (Lac)']].dropna()\n",
    "\n",
    "# Convert leadership skills to a binary format (yes=1, no=0)\n",
    "leadership_data['Leadership'] = leadership_data['Leadership- skills'].apply(lambda x: 1 if x == 'yes' else 0)\n",
    "correlation = leadership_data['Leadership'].corr(leadership_data['Expected salary (Lac)'])\n",
    "correlation\n"
   ]
  },
  {
   "cell_type": "raw",
   "id": "d9c2474c-2f8d-499c-90a5-8a5f62124cfd",
   "metadata": {},
   "source": [
    "Question 5: How many students are graduating by the end of 2024?"
   ]
  },
  {
   "cell_type": "code",
   "execution_count": null,
   "id": "69d2fe85-bc18-49fa-abcd-d23ca2e9f2ca",
   "metadata": {
    "tags": []
   },
   "outputs": [],
   "source": [
    "import pandas as pd\n",
    "\n",
    "file_path = 'Cloud_Conselage_Internship_Data.xlsx'\n",
    "data = pd.read_excel(file_path)\n",
    "\n",
    "graduates_2024 = data[data['Year of Graduation'] == 2024]\n",
    "\n",
    "# Count the number of students graduating by the end of 2024\n",
    "num_graduates_2024 = graduates_2024.shape[0]\n",
    "print(f'The number of students graduating by the end of 2024 is: {num_graduates_2024}')\n"
   ]
  },
  {
   "cell_type": "raw",
   "id": "d78be412-e94e-4254-a41c-e74c7f81b961",
   "metadata": {},
   "source": [
    "Question 6 : Which promotion channel brings in more student participations for the event?"
   ]
  },
  {
   "cell_type": "code",
   "execution_count": null,
   "id": "1913825c-5fd0-474c-a4fc-5c45e9e1ed9b",
   "metadata": {
    "tags": []
   },
   "outputs": [],
   "source": [
    "import pandas as pd\n",
    "import matplotlib.pyplot as plt\n",
    "import seaborn as sns\n",
    "\n",
    "file_path = 'Cloud_Conselage_Internship_Data.xlsx'\n",
    "data = pd.read_excel(file_path)\n",
    "promotion_data = data['How did you come to know about this event?'].dropna()\n",
    "promotion_split = promotion_data.str.split(' | ').explode()\n",
    "promotion_counts = promotion_split.value_counts().reset_index()\n",
    "promotion_counts.columns = ['Promotion Channel', 'Count']\n",
    "print(promotion_counts)\n",
    "\n",
    "# Visualize the data\n",
    "plt.figure(figsize=(12, 6))\n",
    "sns.barplot(x='Promotion Channel', y='Count', data=promotion_counts)\n",
    "plt.title('Student Participation by Promotion Channel')\n",
    "plt.xlabel('Promotion Channel')\n",
    "plt.ylabel('Number of Students')\n",
    "plt.xticks(rotation=45)\n",
    "plt.show()\n"
   ]
  },
  {
   "cell_type": "raw",
   "id": "10be75e2-88cf-4739-9582-4e0edadcc0c9",
   "metadata": {},
   "source": [
    "Question 7: : Find total number of students who attended events related to Data Science?"
   ]
  },
  {
   "cell_type": "code",
   "execution_count": null,
   "id": "fb702ac9-6f10-4e3d-95bd-0c6cd2ee4244",
   "metadata": {
    "tags": []
   },
   "outputs": [],
   "source": [
    "import pandas as pd\n",
    "\n",
    "file_path = 'Cloud_Conselage_Internship_Data.xlsx'\n",
    "data = pd.read_excel(file_path)\n",
    "\n",
    "# Count the number of occurrences of the term 'Data Science' in the 'Events' column\n",
    "num_data_science_events = data['Events'].str.contains('Data Science', case=False, na=False).sum()\n",
    "print(f'Total number of students who attended events related to Data Science: {num_data_science_events}')\n",
    "\n"
   ]
  },
  {
   "cell_type": "raw",
   "id": "6373b82e-aa01-43fe-904b-9842f55ac769",
   "metadata": {},
   "source": [
    "Question 8: How many students know about the event from their college? Which of these top 5 colleges?"
   ]
  },
  {
   "cell_type": "code",
   "execution_count": null,
   "id": "39ff478b-a503-4341-a261-e3fe7e241725",
   "metadata": {
    "tags": []
   },
   "outputs": [],
   "source": [
    "import pandas as pd\n",
    "\n",
    "file_path = 'Cloud_Conselage_Internship_Data.xlsx'\n",
    "data = pd.read_excel(file_path)\n",
    "college_promotion = data[data['How did you come to know about this event?'].str.contains('college', case=False, na=False)]\n",
    "num_college_promotion = college_promotion.shape[0]\n",
    "\n",
    "# Group by college and count the number of students from each college\n",
    "top_colleges = college_promotion['College Name'].value_counts().head(5).reset_index()\n",
    "top_colleges.columns = ['College Name', 'Number of Students']\n",
    "\n",
    "print(f'Total number of students who learned about the event from their college: {num_college_promotion}')\n",
    "print('Top 5 colleges with the highest number of students who learned about the event from their college:')\n",
    "print(top_colleges)\n"
   ]
  },
  {
   "cell_type": "raw",
   "id": "63ff731d-0d4b-42d6-8774-523b59c0c84f",
   "metadata": {},
   "source": []
  },
  {
   "cell_type": "code",
   "execution_count": null,
   "id": "47a0acae-468b-4684-9146-f90c0f910e3e",
   "metadata": {
    "tags": []
   },
   "outputs": [],
   "source": [
    "\n"
   ]
  },
  {
   "cell_type": "code",
   "execution_count": null,
   "id": "f2f2a5e6-748a-4c62-a3e5-62b23a9dc6e2",
   "metadata": {},
   "outputs": [],
   "source": []
  },
  {
   "cell_type": "code",
   "execution_count": null,
   "id": "e048b737-e056-4896-b476-091490c22e3a",
   "metadata": {},
   "outputs": [],
   "source": []
  }
 ],
 "metadata": {
  "kernelspec": {
   "display_name": "Python",
   "language": "python",
   "name": "conda-env-python-py"
  },
  "language_info": {
   "codemirror_mode": {
    "name": "ipython",
    "version": 3
   },
   "file_extension": ".py",
   "mimetype": "text/x-python",
   "name": "python",
   "nbconvert_exporter": "python",
   "pygments_lexer": "ipython3",
   "version": "3.7.12"
  }
 },
 "nbformat": 4,
 "nbformat_minor": 5
}
